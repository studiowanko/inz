{
 "cells": [
  {
   "cell_type": "code",
   "execution_count": null,
   "metadata": {},
   "outputs": [],
   "source": [
    "import sys\n",
    "# INSERT PATH TO THE PROJECT HERE: \n",
    "sys.path.insert(0,'/mnt/c/inz/inz/')\n",
    "from wutsat.fun import config as cf\n",
    "from wutsat.fun import sat_fun as s\n",
    "from wutsat.fun import mat_fun as mat\n",
    "from wutsat.fun import plotting_presets as pltpr\n",
    "from wutsat.fun import cv_fun\n",
    "from math import radians as to_rad\n",
    "from skyfield.api import Topos, load\n",
    "from IPython.display import clear_output\n",
    "from IPython.display import Image\n",
    "import numpy as np\n",
    "from wutsat.fun.parse import InitVariables"
   ]
  },
  {
   "cell_type": "code",
   "execution_count": 4,
   "metadata": {},
   "outputs": [
    {
     "name": "stdout",
     "output_type": "stream",
     "text": [
      "CPU times: user 1.28 s, sys: 1.41 s, total: 2.69 s\n",
      "Wall time: 404 ms\n"
     ]
    }
   ],
   "source": [
    "%%time\n",
    "generate_photos = 1\n",
    "data_range = range(17)\n",
    "\n",
    "# Calculate corresponding photos\n",
    "for i in tmp:\n",
    "    #Load saved results:\n",
    "    v = InitVariables(i)\n",
    "    # Calculate positions half footprint distance away:\n",
    "    sat_positions = s.get_sat_positions(v.t,cf.pwsat2_tle_path,v.TLE)\n",
    "    distance = s.satellite_basic(sat_positions[3][0], sat_positions[2][0])[1]/2\n",
    "    distances = [s.satellite_basic(sat_positions[3][i], sat_positions[2][i])[1]/2 for i in range(len(sat_positions[0]))]\n",
    "   \n",
    "    \n",
    "    extent, other_extents, res = cv_fun.find_corresponding_photos(v.projected_set_path, v.source_img, v.results_path, save_photos=1, save_path=v.dataset_path, calculate_only=False)\n",
    "    area_def, files, area_extent = mat.rwdata(v.dataset_path, 'sat_data.pkl', 'r', None)\n",
    "    \n",
    "#     #Calculate coordinates:\n",
    "    ext_lats, ext_lons = s.get_extent_in_coordinates(extent[2],area_def[extent[3][5]],files,v.composite)\n",
    "    if generate_photos:\n",
    "        pltpr.draw_poins_on_map(ext_lats, ext_lons, v.res_im1,800)\n",
    "\n",
    "#     #Generates calculated up coordinates again to plot photo:\n",
    "    photo_extent, photo_points = s.get_photo_extent_and_points(area_def[extent[3][5]],files,v.composite)\n",
    "    if generate_photos:\n",
    "        pltpr.plot_coastlines_on_map(v.composite_plot, files, photo_extent, [ext_lats, ext_lons], v.res_im2, 200)\n",
    "\n",
    "#     #Generate overall footprint,detected area polygon, :\n",
    "    photo_extent = [-30,45,0,90]\n",
    "\n",
    "    foot_print_whole = s.calculate_sets_of_footprints(sat_positions[0],sat_positions[1],distances,sat_positions[3])\n",
    "\n",
    "    detected_area = [[ext_lats.copy()], [ext_lons.copy()]]\n",
    "    detected_area[0][0].append(ext_lats[0].copy())\n",
    "    detected_area[1][0].append(ext_lons[0].copy())\n",
    "    \n",
    "    points = [[lat,lon] for lat,lon in zip(ext_lats, ext_lons)]\n",
    "    t1,t1points, t1polygons,debug = s.get_timeframe_of_sat_positions(points, cf.pwsat2_tle_path, v.TLE, v.t, distances[0],plot=False)\n",
    "    results = mat.calculate_results(v.t,t1,v)\n",
    "    \n",
    "    mat.save_results(results,v.dataset_path,other_data=[res[0],extent[3][4]])\n",
    "    print(results)\n",
    "\n",
    "\n",
    "    plt_pols = [foot_print_whole,t1polygons,detected_area]\n",
    "    plt_lines = [[[sat_positions[0]],[sat_positions[1]]],[[debug[0][0]],[debug[0][1]]]]\n",
    "    plt_points = [t1points]\n",
    "\n",
    "    if generate_photos:\n",
    "        pltpr.draw_polygons_on_map(plt_pols,plt_lines,plt_points,v.composite_plot, files, photo_extent, v.res_im3)\n",
    "\n",
    "\n",
    "\n",
    "    list_of_images = [extent[3][2],extent[3][3],extent[3][4],v.res_im1,v.res_im2, v.res_im3]\n",
    "\n",
    "    if generate_photos:\n",
    "        pltpr.save_collage(list_of_images,v.res_final,'/mnt/c/inz/tmp/',images_per_row=3)\n",
    "    cf.end_sound()\n",
    "    \n",
    "   "
   ]
  }
 ],
 "metadata": {
  "kernelspec": {
   "display_name": "inz3",
   "language": "python",
   "name": "inz3"
  },
  "language_info": {
   "codemirror_mode": {
    "name": "ipython",
    "version": 3
   },
   "file_extension": ".py",
   "mimetype": "text/x-python",
   "name": "python",
   "nbconvert_exporter": "python",
   "pygments_lexer": "ipython3",
   "version": "3.7.3"
  }
 },
 "nbformat": 4,
 "nbformat_minor": 2
}
