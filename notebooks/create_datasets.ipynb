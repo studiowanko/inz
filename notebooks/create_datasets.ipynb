{
 "cells": [
  {
   "cell_type": "code",
   "execution_count": 2,
   "metadata": {},
   "outputs": [
    {
     "data": {
      "application/javascript": [
       "if (!(\"Notification\" in window)) {\n",
       "    alert(\"This browser does not support desktop notifications, so the %%notify magic will not work.\");\n",
       "} else if (Notification.permission !== 'granted' && Notification.permission !== 'denied') {\n",
       "    Notification.requestPermission(function (permission) {\n",
       "        if(!('permission' in Notification)) {\n",
       "            Notification.permission = permission;\n",
       "        }\n",
       "    })\n",
       "}\n"
      ],
      "text/plain": [
       "<IPython.core.display.Javascript object>"
      ]
     },
     "metadata": {},
     "output_type": "display_data"
    }
   ],
   "source": [
    "import sys\n",
    "sys.path.insert(0,'/mnt/c/inz/inz/')\n",
    "from wutsat.fun import config as cf\n",
    "from wutsat.fun import sat_fun as s\n",
    "from wutsat.fun import sat_fun, cv_fun, parse\n",
    "from wutsat.fun import mat_fun as mat\n",
    "from wutsat.fun import plotting_presets as pltpr\n",
    "from math import radians as to_rad\n",
    "from skyfield.api import Topos, load\n",
    "from IPython.display import clear_output\n",
    "import math\n",
    "import numpy as np\n",
    "from wutsat.fun.parse import InitVariables\n",
    "%load_ext jupyternotify\n",
    "import multiprocessing"
   ]
  },
  {
   "cell_type": "markdown",
   "metadata": {},
   "source": [
    "### Initizlize datasets"
   ]
  },
  {
   "cell_type": "code",
   "execution_count": 2,
   "metadata": {},
   "outputs": [
    {
     "name": "stdout",
     "output_type": "stream",
     "text": [
      "[80.85627870119966, 60.351809525977046, 37.09640701485165]\n",
      "CPU times: user 18.1 s, sys: 11.9 s, total: 30.1 s\n",
      "Wall time: 11 s\n"
     ]
    }
   ],
   "source": [
    "# BEFORE RUNNING BE SURE TO:\n",
    "\n",
    "data_range = range(15)\n",
    "save_photos = True \n",
    "for i in data_range:\n",
    "    v = InitVariables(i)\n",
    "    #### HERE SHOULD BE VERY DENSE POSITIONS  ####\n",
    "    sat_positions = s.get_sat_positions(v.t,cf.pwsat2_tle_path,v.TLE)\n",
    "    distance = s.satellite_basic(sat_positions[3][0], sat_positions[2][0])[1]/2\n",
    "    sat_positions_distance_away = s.get_sat_positions_distance_away(v.t,cf.pwsat2_tle_path,v.TLE,distance=distance)\n",
    "    s.calculate_and_project(cf.hrit_files,sat_positions_distance_away,v.t,v.projected_set_path,cf.pwsat_fov,v.shape,v.proj1,v.nadir_proj,v.composite,False,v.dataset_path,save_photos)"
   ]
  },
  {
   "cell_type": "code",
   "execution_count": null,
   "metadata": {},
   "outputs": [],
   "source": [
    "# As a result you should get "
   ]
  },
  {
   "cell_type": "code",
   "execution_count": 14,
   "metadata": {},
   "outputs": [],
   "source": []
  }
 ],
 "metadata": {
  "kernelspec": {
   "display_name": "inz3",
   "language": "python",
   "name": "inz3"
  },
  "language_info": {
   "codemirror_mode": {
    "name": "ipython",
    "version": 3
   },
   "file_extension": ".py",
   "mimetype": "text/x-python",
   "name": "python",
   "nbconvert_exporter": "python",
   "pygments_lexer": "ipython3",
   "version": "3.7.3"
  }
 },
 "nbformat": 4,
 "nbformat_minor": 2
}
